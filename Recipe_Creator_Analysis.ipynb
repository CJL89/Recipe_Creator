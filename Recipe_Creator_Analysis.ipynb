{
 "cells": [
  {
   "cell_type": "code",
   "execution_count": 10,
   "metadata": {},
   "outputs": [],
   "source": [
    "### Importing Dependencies"
   ]
  },
  {
   "cell_type": "code",
   "execution_count": 11,
   "metadata": {},
   "outputs": [],
   "source": [
    "# Importing dependecies:\n",
    "import re\n",
    "import sys\n",
    "import string\n",
    "import pandas as pd\n",
    "import numpy as np\n",
    "\n",
    "# Visuals\n",
    "import matplotlib.pyplot as plt\n",
    "import seaborn as sns\n",
    "\n",
    "# Configuring Notebook environment:\n",
    "sns.set()\n",
    "%matplotlib inline\n",
    "%config InlineBackend.figure_format = 'svg'\n",
    "\n",
    "plt.rcParams['figure.figsize'] = (10.0, 7.5)\n",
    "pd.set_option('display.max_columns', 100)\n",
    "pd.set_option('display.max_rows', 100)"
   ]
  },
  {
   "cell_type": "code",
   "execution_count": 12,
   "metadata": {},
   "outputs": [
    {
     "data": {
      "text/html": [
       "<div>\n",
       "<style scoped>\n",
       "    .dataframe tbody tr th:only-of-type {\n",
       "        vertical-align: middle;\n",
       "    }\n",
       "\n",
       "    .dataframe tbody tr th {\n",
       "        vertical-align: top;\n",
       "    }\n",
       "\n",
       "    .dataframe thead th {\n",
       "        text-align: right;\n",
       "    }\n",
       "</style>\n",
       "<table border=\"1\" class=\"dataframe\">\n",
       "  <thead>\n",
       "    <tr style=\"text-align: right;\">\n",
       "      <th></th>\n",
       "      <th>title</th>\n",
       "      <th>ingredients</th>\n",
       "      <th>instructions</th>\n",
       "      <th>ingredients_vector</th>\n",
       "      <th>instructions_vector</th>\n",
       "    </tr>\n",
       "  </thead>\n",
       "  <tbody>\n",
       "    <tr>\n",
       "      <th>p3pKOD6jIHEcjf20CCXohP8uqkG5dGi</th>\n",
       "      <td>grammie hamblets deviled crab</td>\n",
       "      <td>celery finely chopped green pepper finely chop...</td>\n",
       "      <td>toss ingredients lightly spoon buttered baking...</td>\n",
       "      <td>['celery', 'finely', 'chopped', 'green', 'pepp...</td>\n",
       "      <td>['toss', 'ingredients', 'lightly', 'spoon', 'b...</td>\n",
       "    </tr>\n",
       "    <tr>\n",
       "      <th>S7aeOIrsrgT0jLP32jKGg4j.o9zi2DO</th>\n",
       "      <td>infineon raceway baked beans</td>\n",
       "      <td>skirt steak cut inch dicekosher salt fresh cra...</td>\n",
       "      <td>watch make recipe sprinkle steak salt pepper s...</td>\n",
       "      <td>['skirt', 'steak', 'cut', 'inch', 'dicekosher'...</td>\n",
       "      <td>['watch', 'make', 'recipe', 'sprinkle', 'steak...</td>\n",
       "    </tr>\n",
       "    <tr>\n",
       "      <th>o9MItV9txfoPsUQ4v8b0vh1.VdjwfsK</th>\n",
       "      <td>southwestern black bean dip</td>\n",
       "      <td>cups dried black beans picked rinsed cups wate...</td>\n",
       "      <td>saucepan let beans soak enough cold water cove...</td>\n",
       "      <td>['cups', 'dried', 'black', 'beans', 'picked', ...</td>\n",
       "      <td>['saucepan', 'let', 'beans', 'soak', 'enough',...</td>\n",
       "    </tr>\n",
       "    <tr>\n",
       "      <th>5l1yTSYFifF/M2dfbD6DX28WWQpLWNK</th>\n",
       "      <td>sour cream noodle bake</td>\n",
       "      <td>ground chuckone tomato sauce saltfreshly groun...</td>\n",
       "      <td>watch make recipe preheat oven degrees f brown...</td>\n",
       "      <td>['ground', 'chuckone', 'tomato', 'sauce', 'sal...</td>\n",
       "      <td>['watch', 'make', 'recipe', 'preheat', 'oven',...</td>\n",
       "    </tr>\n",
       "    <tr>\n",
       "      <th>kRBQSWtqYWqtkb34FGeenBSbC32gIdO</th>\n",
       "      <td>sushi renovation</td>\n",
       "      <td>rice brown mediumgrain cookedcup quinoacup swe...</td>\n",
       "      <td>special equipment sushi mat cook brown rice qu...</td>\n",
       "      <td>['rice', 'brown', 'mediumgrain', 'cookedcup', ...</td>\n",
       "      <td>['special', 'equipment', 'sushi', 'mat', 'cook...</td>\n",
       "    </tr>\n",
       "  </tbody>\n",
       "</table>\n",
       "</div>"
      ],
      "text/plain": [
       "                                                         title  \\\n",
       "p3pKOD6jIHEcjf20CCXohP8uqkG5dGi  grammie hamblets deviled crab   \n",
       "S7aeOIrsrgT0jLP32jKGg4j.o9zi2DO   infineon raceway baked beans   \n",
       "o9MItV9txfoPsUQ4v8b0vh1.VdjwfsK    southwestern black bean dip   \n",
       "5l1yTSYFifF/M2dfbD6DX28WWQpLWNK         sour cream noodle bake   \n",
       "kRBQSWtqYWqtkb34FGeenBSbC32gIdO               sushi renovation   \n",
       "\n",
       "                                                                       ingredients  \\\n",
       "p3pKOD6jIHEcjf20CCXohP8uqkG5dGi  celery finely chopped green pepper finely chop...   \n",
       "S7aeOIrsrgT0jLP32jKGg4j.o9zi2DO  skirt steak cut inch dicekosher salt fresh cra...   \n",
       "o9MItV9txfoPsUQ4v8b0vh1.VdjwfsK  cups dried black beans picked rinsed cups wate...   \n",
       "5l1yTSYFifF/M2dfbD6DX28WWQpLWNK  ground chuckone tomato sauce saltfreshly groun...   \n",
       "kRBQSWtqYWqtkb34FGeenBSbC32gIdO  rice brown mediumgrain cookedcup quinoacup swe...   \n",
       "\n",
       "                                                                      instructions  \\\n",
       "p3pKOD6jIHEcjf20CCXohP8uqkG5dGi  toss ingredients lightly spoon buttered baking...   \n",
       "S7aeOIrsrgT0jLP32jKGg4j.o9zi2DO  watch make recipe sprinkle steak salt pepper s...   \n",
       "o9MItV9txfoPsUQ4v8b0vh1.VdjwfsK  saucepan let beans soak enough cold water cove...   \n",
       "5l1yTSYFifF/M2dfbD6DX28WWQpLWNK  watch make recipe preheat oven degrees f brown...   \n",
       "kRBQSWtqYWqtkb34FGeenBSbC32gIdO  special equipment sushi mat cook brown rice qu...   \n",
       "\n",
       "                                                                ingredients_vector  \\\n",
       "p3pKOD6jIHEcjf20CCXohP8uqkG5dGi  ['celery', 'finely', 'chopped', 'green', 'pepp...   \n",
       "S7aeOIrsrgT0jLP32jKGg4j.o9zi2DO  ['skirt', 'steak', 'cut', 'inch', 'dicekosher'...   \n",
       "o9MItV9txfoPsUQ4v8b0vh1.VdjwfsK  ['cups', 'dried', 'black', 'beans', 'picked', ...   \n",
       "5l1yTSYFifF/M2dfbD6DX28WWQpLWNK  ['ground', 'chuckone', 'tomato', 'sauce', 'sal...   \n",
       "kRBQSWtqYWqtkb34FGeenBSbC32gIdO  ['rice', 'brown', 'mediumgrain', 'cookedcup', ...   \n",
       "\n",
       "                                                               instructions_vector  \n",
       "p3pKOD6jIHEcjf20CCXohP8uqkG5dGi  ['toss', 'ingredients', 'lightly', 'spoon', 'b...  \n",
       "S7aeOIrsrgT0jLP32jKGg4j.o9zi2DO  ['watch', 'make', 'recipe', 'sprinkle', 'steak...  \n",
       "o9MItV9txfoPsUQ4v8b0vh1.VdjwfsK  ['saucepan', 'let', 'beans', 'soak', 'enough',...  \n",
       "5l1yTSYFifF/M2dfbD6DX28WWQpLWNK  ['watch', 'make', 'recipe', 'preheat', 'oven',...  \n",
       "kRBQSWtqYWqtkb34FGeenBSbC32gIdO  ['special', 'equipment', 'sushi', 'mat', 'cook...  "
      ]
     },
     "execution_count": 12,
     "metadata": {},
     "output_type": "execute_result"
    }
   ],
   "source": [
    "df = pd.read_csv('data/strings/df_clean.csv', index_col=0)\n",
    "df.head()"
   ]
  },
  {
   "cell_type": "markdown",
   "metadata": {},
   "source": [
    "### Analyzing Recipes"
   ]
  },
  {
   "cell_type": "code",
   "execution_count": 21,
   "metadata": {},
   "outputs": [
    {
     "data": {
      "text/plain": [
       "[]                                                                                                                                                                                                                                                                                                                                                                                                                                                                                                                                                                                                                                                                                                                                                                                                                   1475\n",
       "['chopped', 'onion', 'tomatoes', 'grreen', 'chillies']                                                                                                                                                                                                                                                                                                                                                                                                                                                                                                                                                                                                                                                                                                                                                                  8\n",
       "['cups', 'sugar', 'light', 'corn', 'syrup', 'hot', 'water', 'butter', 'margarine', 'cups', 'pecans', 'vanilla', 'flavoring', 'heaping', 'baking', 'soda']                                                                                                                                                                                                                                                                                                                                                                                                                                                                                                                                                                                                                                                               5\n",
       "['extralarge', 'egg', 'yolks', 'room', 'temperature', 'sugar', 'good', 'dark', 'rum', 'divided', 'cups', 'brewed', 'espresso', 'divided', 'ounces', 'mascarpone', 'cheese', 'italian', 'ladyfingers', 'savoiardibittersweet', 'chocolate', 'shaved', 'gratedconfectioners', 'sugar']                                                                                                                                                                                                                                                                                                                                                                                                                                                                                                                                    4\n",
       "['ounces', 'sweetened', 'shredded', 'coconut', 'ounces', 'sweetened', 'condensed', 'milk', 'pure', 'vanilla', 'extract', 'extralarge', 'egg', 'whites', 'room', 'temperature', 'kosher', 'salt']                                                                                                                                                                                                                                                                                                                                                                                                                                                                                                                                                                                                                        4\n",
       "                                                                                                                                                                                                                                                                                                                                                                                                                                                                                                                                                                                                                                                                                                                                                                                                                     ... \n",
       "['ziti', 'tubeshaped', 'pasta', 'tablespoons', 'unsalted', 'butter', 'tablespoons', 'extravirgin', 'olive', 'oil', 'plus', 'serving', 'merguez', 'sausage', 'see', 'chef', 'talk', 'casings', 'removed', 'garlic', 'cloves', 'minced', 'tomato', 'paste', 'finely', 'chopped', 'fresh', 'flatleaf', 'parsleykosher', 'salt', 'freshly', 'ground', 'black', 'pepper', 'ounces', 'shredded', 'ricotta', 'salata', 'cheese', 'sicilian', 'bread', 'crumbs', 'see', 'pantoasted', 'soft', 'bread', 'crumbs', 'tablespoons', 'finely', 'chopped', 'fresh', 'mint', 'garlic', 'clove', 'finely', 'chopped', 'cups', 'cubed', 'inch', 'trimmed', 'brioche', 'challah', 'crusty', 'italian', 'bread', 'tablespoons', 'extravirgin', 'olive', 'oil', 'tablespoons', 'coarsely', 'chopped', 'fresh', 'flatleaf', 'parsley']       1\n",
       "['oil', 'frying', 'ripe', 'plantains', 'peeledsaltgarlic', 'mojo', 'recipe', 'follows', 'garlic', 'cloves', 'salt', 'sour', 'orange', 'juice', 'sweet', 'orange', 'juiceplus', 'fresh', 'lime', 'lemon', 'juice']                                                                                                                                                                                                                                                                                                                                                                                                                                                                                                                                                                                                       1\n",
       "['cooked', 'fresh', 'lobster', 'meat', 'chopped', 'mayonnaise', 'egg', 'minced', 'red', 'onion', 'scallions', 'sliced', 'thinlydash', 'cumindash', 'cayenne', 'pepper', 'tablespoons', 'bread', 'crumbssalt', 'peppercornmeal', 'coatingolive', 'oilmustard', 'jalapeno', 'sauce', 'recipe', 'follows', 'jalapeno', 'pepper', 'seeded', 'minced', 'mayonnaise', 'wholegrain', 'mustard', 'fresh', 'lemon', 'juice', 'chopped', 'parsley', 'leavessalt', 'pepper']                                                                                                                                                                                                                                                                                                                                                       1\n",
       "['butter', 'vegetable', 'oil', 'red', 'onion', 'diced', 'cloves', 'garlic', 'minced', 'green', 'chile', 'split', 'lengthwise', 'curry', 'powder', 'plus', 'tablespoons', 'allpurpose', 'flour', 'cups', 'percent', 'lowfat', 'milk', 'cups', 'provolone', 'mild', 'cheese', 'grated', 'elbow', 'macaroni', 'pasta', 'prepared', 'according', 'package', 'instructions', 'bread', 'crumbsbunch', 'asparagus', 'trimmedkosher', 'salt']                                                                                                                                                                                                                                                                                                                                                                                   1\n",
       "['champagnesplash', 'pomegranate', 'juice']                                                                                                                                                                                                                                                                                                                                                                                                                                                                                                                                                                                                                                                                                                                                                                             1\n",
       "Name: ingredients_vector, Length: 56522, dtype: int64"
      ]
     },
     "execution_count": 21,
     "metadata": {},
     "output_type": "execute_result"
    }
   ],
   "source": [
    "df['ingredients_vector'].value_counts()"
   ]
  },
  {
   "cell_type": "code",
   "execution_count": 16,
   "metadata": {},
   "outputs": [
    {
     "data": {
      "text/plain": [
       "chopped onion tomatoes grreen chillies                                                                                                                                                                                                                                                                                                                                                                                                                                                                                                  8\n",
       "cups sugar light corn syrup hot water butter margarine cups pecans vanilla flavoring heaping baking soda                                                                                                                                                                                                                                                                                                                                                                                                                                5\n",
       "ounces sweetened shredded coconut ounces sweetened condensed milk pure vanilla extract extralarge egg whites room temperature kosher salt                                                                                                                                                                                                                                                                                                                                                                                               4\n",
       "chickens quartered backs removed recipe barbecue sauce recipe follows cups chopped yellow onion onion minced garlic cloves vegetable oil tomato paste ounces cider vinegar honey worcestershire sauce dijon mustard soy sauce hoisin sauce tablespoons chili powder ground cumin crushed red pepper flakes                                                                                                                                                                                                                              4\n",
       "tablespoons sugar kosher salt pure olive oil warm water cups bread flour bread machines instant yeast teaspoons olive oilolive oil pizza crustflour dusting pizza peel ounces pizza sauce chopped fresh herbs thyme oregano red pepper flakes examplea combination grated cheeses mozzarella monterey jack provolone                                                                                                                                                                                                                    4\n",
       "                                                                                                                                                                                                                                                                                                                                                                                                                                                                                                                                       ..\n",
       "extravirgin olive oilone chuck roast tiedkosher salt ribs celery thinly sliced bias onions thinly sliced pinch crushed red pepper cloves garlic smashed finely chopped tomato paste red wine vinegar cups chicken stock bay leaves strips orange zest removed orange vegetable peeler star anise fresh thyme bundle cups inch diced butternut squash cups inch diced jerusalem artichokes dried figs stems removed quartered                                                                                                            1\n",
       "pieces skinless white chicken meat without bones allpurpose flour solid vegetable shorteningsalt fresh ground black pepper taste                                                                                                                                                                                                                                                                                                                                                                                                        1\n",
       "quart chicken broth low sodium white onion inch fresh peeled ginger stalks lemon grass white part cracked open kaffir lime leaves fresh dried limes juiced tablespoons thai fish sauce unsweetened coconut milk thai red curry pastepinch paprikarice flour dredging shrimp peeled deveined tablespoons peanut oil dozen mussels steamed asparagus tips ounces shiitake mushroom caps sliced fresh udon noodles pea tendrils roughly chopped mint leaves roughly chopped cilantro leaves chopped cashewsdaikon sprouts garnish          1\n",
       "kosher salt freshly ground black pepper prepped vegetables cucumber bell pepper mushroom slices shredded cabbage carrots heads butter lettuce leaves separated scallions white green parts thinly sliced fresh cilantro leaves tofu cubes hardboiled eggs sliced optionalone package instant ramen discard seasoning packet tablespoons plus vegetable oil ounces inchthick boneless centercut loin pork chops sliced inch thick angle teaspoons hoisin sauce chopped peanutsasianstyle salad dressing sesameginger miso sweet chili    1\n",
       "basic chocolate cake recipe follows baked cooled cups strawberry ice cream softened cups raspberries andor quartered strawberries sugar cold heavy cream vanilla extractcooking spray unsweetened cocoa powder natural dutch process cups allpurpose flour cups sugar teaspoons baking powder baking soda salt eggs room temperature vegetable oil sour cream teaspoons vanilla extract                                                                                                                                                 1\n",
       "Name: ingredients, Length: 56521, dtype: int64"
      ]
     },
     "execution_count": 16,
     "metadata": {},
     "output_type": "execute_result"
    }
   ],
   "source": [
    "df['ingredients'].value_counts()"
   ]
  },
  {
   "cell_type": "code",
   "execution_count": 19,
   "metadata": {},
   "outputs": [
    {
     "data": {
      "text/plain": [
       "guacamole                                                           33\n",
       "tiramisu                                                            23\n",
       "fried chicken                                                       21\n",
       "caesar salad                                                        19\n",
       "pecan pie                                                           19\n",
       "                                                                    ..\n",
       "prickly pear iced tea                                                1\n",
       "chicken pinwheels with tellurides own rub and sw seasoning           1\n",
       "turmeric sweet cornstuffed tomato with puree of brussels sprouts     1\n",
       "red wine cabbage                                                     1\n",
       "meringue swirls                                                      1\n",
       "Name: title, Length: 52474, dtype: int64"
      ]
     },
     "execution_count": 19,
     "metadata": {},
     "output_type": "execute_result"
    }
   ],
   "source": [
    "df['title'].value_counts()"
   ]
  },
  {
   "cell_type": "code",
   "execution_count": null,
   "metadata": {},
   "outputs": [],
   "source": []
  },
  {
   "cell_type": "code",
   "execution_count": null,
   "metadata": {},
   "outputs": [],
   "source": []
  },
  {
   "cell_type": "code",
   "execution_count": null,
   "metadata": {},
   "outputs": [],
   "source": []
  },
  {
   "cell_type": "code",
   "execution_count": null,
   "metadata": {},
   "outputs": [],
   "source": []
  }
 ],
 "metadata": {
  "kernelspec": {
   "display_name": "Python 3",
   "language": "python",
   "name": "python3"
  },
  "language_info": {
   "codemirror_mode": {
    "name": "ipython",
    "version": 3
   },
   "file_extension": ".py",
   "mimetype": "text/x-python",
   "name": "python",
   "nbconvert_exporter": "python",
   "pygments_lexer": "ipython3",
   "version": "3.7.6"
  }
 },
 "nbformat": 4,
 "nbformat_minor": 4
}
